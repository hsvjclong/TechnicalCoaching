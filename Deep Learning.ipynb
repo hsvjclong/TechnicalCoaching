{
 "cells": [
  {
   "cell_type": "code",
   "execution_count": 1,
   "metadata": {},
   "outputs": [],
   "source": [
    "import numpy as np"
   ]
  },
  {
   "cell_type": "code",
   "execution_count": 2,
   "metadata": {},
   "outputs": [],
   "source": [
    "def unpickle(file):\n",
    "    import pickle\n",
    "    with open(file, 'rb') as fo:\n",
    "        dict = pickle.load(fo, encoding='bytes')\n",
    "    return dict"
   ]
  },
  {
   "cell_type": "code",
   "execution_count": 3,
   "metadata": {},
   "outputs": [],
   "source": [
    "batch_1 = unpickle('C:\\\\Users\\\\hsvjc\\\\Desktop\\\\Thinkful\\\\Image Data\\\\cifar-10-python.tar\\\\cifar-10-python\\\\cifar-10-batches-py\\\\data_batch_1')\n",
    "batch_2 = unpickle('C:\\\\Users\\\\hsvjc\\\\Desktop\\\\Thinkful\\\\Image Data\\\\cifar-10-python.tar\\\\cifar-10-python\\\\cifar-10-batches-py\\\\data_batch_2')\n",
    "batch_3 = unpickle('C:\\\\Users\\\\hsvjc\\\\Desktop\\\\Thinkful\\\\Image Data\\\\cifar-10-python.tar\\\\cifar-10-python\\\\cifar-10-batches-py\\\\data_batch_3')\n",
    "batch_4 = unpickle('C:\\\\Users\\\\hsvjc\\\\Desktop\\\\Thinkful\\\\Image Data\\\\cifar-10-python.tar\\\\cifar-10-python\\\\cifar-10-batches-py\\\\data_batch_4')\n",
    "batch_5 = unpickle('C:\\\\Users\\\\hsvjc\\\\Desktop\\\\Thinkful\\\\Image Data\\\\cifar-10-python.tar\\\\cifar-10-python\\\\cifar-10-batches-py\\\\data_batch_5')\n",
    "batch_test = unpickle('C:\\\\Users\\\\hsvjc\\\\Desktop\\\\Thinkful\\\\Image Data\\\\cifar-10-python.tar\\\\cifar-10-python\\\\cifar-10-batches-py\\\\test_batch')\n",
    "class_names = unpickle('C:\\\\Users\\\\hsvjc\\\\Desktop\\\\Thinkful\\\\Image Data\\\\cifar-10-python.tar\\\\cifar-10-python\\\\cifar-10-batches-py\\\\batches.meta')"
   ]
  },
  {
   "cell_type": "code",
   "execution_count": 4,
   "metadata": {},
   "outputs": [],
   "source": [
    "train_data = np.vstack((batch_1[b'data'], batch_2[b'data'], batch_3[b'data'], batch_4[b'data'], batch_5[b'data']))\n",
    "test_data = batch_test[b'data']"
   ]
  },
  {
   "cell_type": "code",
   "execution_count": 5,
   "metadata": {},
   "outputs": [],
   "source": [
    "class_list = list(map(lambda x:  str(x)[2:len(str(x)) - 1], class_names[b'label_names']))\n",
    "class_dict = dict(zip(range(0,10), class_list))"
   ]
  }
 ],
 "metadata": {
  "kernelspec": {
   "display_name": "Python 3",
   "language": "python",
   "name": "python3"
  },
  "language_info": {
   "codemirror_mode": {
    "name": "ipython",
    "version": 3
   },
   "file_extension": ".py",
   "mimetype": "text/x-python",
   "name": "python",
   "nbconvert_exporter": "python",
   "pygments_lexer": "ipython3",
   "version": "3.7.3"
  }
 },
 "nbformat": 4,
 "nbformat_minor": 2
}
